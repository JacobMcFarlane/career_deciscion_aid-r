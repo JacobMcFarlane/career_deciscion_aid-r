{
 "cells": [
  {
   "cell_type": "markdown",
   "metadata": {},
   "source": [
    "# Dashboard Data Wrangling"
   ]
  },
  {
   "cell_type": "code",
   "execution_count": 53,
   "metadata": {},
   "outputs": [],
   "source": [
    "import pandas as pd\n",
    "import numpy as np"
   ]
  },
  {
   "cell_type": "code",
   "execution_count": 54,
   "metadata": {},
   "outputs": [
    {
     "name": "stderr",
     "output_type": "stream",
     "text": [
      "C:\\Users\\jacob\\miniconda3\\envs\\532\\lib\\site-packages\\IPython\\core\\interactiveshell.py:3146: DtypeWarning: Columns (0) have mixed types.Specify dtype option on import or set low_memory=False.\n",
      "  has_raised = await self.run_ast_nodes(code_ast.body, cell_name,\n"
     ]
    }
   ],
   "source": [
    "# Importing kaggle survey questions through 24\n",
    "survey_data = pd.read_csv(\"../data/Raw/kaggle_survey_2020_responses.csv\").loc[:,:\"Q24\"]"
   ]
  },
  {
   "cell_type": "markdown",
   "metadata": {},
   "source": [
    "## Question Key For Easy Reference"
   ]
  },
  {
   "cell_type": "markdown",
   "metadata": {},
   "source": [
    "* Q3: residence country (query)\n",
    "* Q4: highest level of formal education aquired. (tile plot)\n",
    "* Q5: current or most recent job title (query).\n",
    "* Q6: Programming years. (query)\n",
    "* Q7: Programming Languages Used on a regular basis. (bar plot)\n",
    "* Q8: Programming Languages Recommended to learn first for Aspiring Data Scientist (tile plot)\n",
    "* Q17: Machine learning algorithms used on a regular basis. (barplot)\n",
    "+ Q24: Yearly Compensation (USD) (card)\n",
    "\n"
   ]
  },
  {
   "cell_type": "code",
   "execution_count": 55,
   "metadata": {},
   "outputs": [],
   "source": [
    "stage_1_data = survey_data[survey_data.columns[survey_data.columns.str.contains(\"Q[3-8]|Q17|Q24\",regex=True)]]"
   ]
  },
  {
   "cell_type": "code",
   "execution_count": 56,
   "metadata": {},
   "outputs": [],
   "source": [
    "# Removing responses from individuals who reported that they had never written code before\n",
    "remove_phrase = [\"I have never written code\"]\n",
    "stage_1_data = stage_1_data[~stage_1_data[\"Q6\"].isin(remove_phrase)]"
   ]
  },
  {
   "cell_type": "code",
   "execution_count": 57,
   "metadata": {},
   "outputs": [],
   "source": [
    "# income wrangling\n",
    "\n",
    "# Filtering out responses below 6000 USD A year as these were likely not full time workers\n",
    "stage_2_data = stage_1_data.query('Q24 != \"$0-999\" & Q24 != \"1,000-1,999\" & Q24 != \"2,000-2,999\" & Q24 != \"3,000-3,999\" & Q24 != \"4,000-4,999\" & Q24 != \"5,000-5,999\"')\n",
    "stage_2_data = stage_2_data.iloc[1:]\n",
    "\n",
    "# Reworking Binning, Splitting Data For Sorting\n",
    "stage_2_data['Q24'] = stage_2_data['Q24'].replace(\"> $500,000\", \"500,000-600,000\")\n",
    "stage_2_data['Q24'] = stage_2_data['Q24'].replace(\"$500,000\", \"500,000-600,000\")\n",
    "stage_2_data['Q24'] = stage_2_data['Q24'].replace(\",\", \"\", regex=True)\n",
    "stage_2_data[['lower','higher']] = stage_2_data.Q24.str.split(\"-\", expand=True)\n",
    "stage_2_data[\"lower\"] = pd.to_numeric(stage_2_data[\"lower\"])\n",
    "stage_2_data[\"higher\"] = pd.to_numeric(stage_2_data[\"higher\"])"
   ]
  },
  {
   "cell_type": "code",
   "execution_count": 58,
   "metadata": {},
   "outputs": [],
   "source": [
    "stage_2_data.to_csv(\"..\\data\\Processed\\general_processed_data.csv\", index = False)"
   ]
  },
  {
   "cell_type": "code",
   "execution_count": 59,
   "metadata": {},
   "outputs": [],
   "source": [
    "stage_2_data.to_csv('general_processed_data.csv', index = False)"
   ]
  },
  {
   "cell_type": "markdown",
   "metadata": {},
   "source": [
    "# Language Barplot wrangling "
   ]
  },
  {
   "cell_type": "code",
   "execution_count": 60,
   "metadata": {},
   "outputs": [],
   "source": [
    "# Melting all mentions of ML methods down to one column for plotting\n",
    "language_barplot_survey_data = stage_1_data.iloc[1:].filter(regex = 'Q[3-7]', axis =1)\n",
    "language_columns = language_barplot_survey_data.columns[language_barplot_survey_data.columns.str.contains(\"Q7\", regex=True)].tolist()\n",
    "id_columns = language_barplot_survey_data.columns[language_barplot_survey_data.columns.str.contains(\"Q3|Q4|Q5|Q6\", regex=True)].tolist()\n",
    "lang_barplot_data = language_barplot_survey_data.melt(id_vars= id_columns, value_vars=language_columns, var_name=\"prog_lang\", value_name=\"selected_lang\").dropna()"
   ]
  },
  {
   "cell_type": "code",
   "execution_count": 61,
   "metadata": {},
   "outputs": [],
   "source": [
    "lang_barplot_data.to_csv('../data/Processed/lang_barplot_data.csv', index = False)"
   ]
  },
  {
   "cell_type": "markdown",
   "metadata": {},
   "source": [
    "# ML Methods Barplot wrangling "
   ]
  },
  {
   "cell_type": "code",
   "execution_count": 62,
   "metadata": {},
   "outputs": [],
   "source": [
    "# Melting all mentions of ML methods down to one column for plotting\n",
    "machine_learning_barplot_survey_data = stage_1_data.iloc[1:].filter(regex = 'Q[3456]|Q17', axis =1)\n",
    "ml_columns = machine_learning_barplot_survey_data.columns[machine_learning_barplot_survey_data.columns.str.contains(\"Q17\", regex=True)].tolist()\n",
    "id_columns = machine_learning_barplot_survey_data.columns[machine_learning_barplot_survey_data.columns.str.contains(\"Q3|Q4|Q5|Q6\", regex=True)].tolist()\n",
    "ml_barplot_data = machine_learning_barplot_survey_data.melt(id_vars= id_columns, value_vars=ml_columns, var_name=\"ml_method\", value_name=\"selected_ml_method\").dropna()\n",
    "\n",
    "\n",
    "# Shortening Names With Specific Pairings\n",
    "ml_barplot_data = ml_barplot_data.replace({'Transformer Networks (BERT, gpt-3, etc)' : 'Transformer Networks',\n",
    "                                          \"Dense Neural Networks (MLPs, etc)\" : \"Dense Neural Networks\",\n",
    "                                          \"Gradient Boosting Machines (xgboost, lightgbm, etc)\" : \"Gradient Boosting Machines\",\n",
    "                                          \"Decision Trees or Random Forests\" : \"Decision Trees\",\n",
    "                                          \"None\" : \"I do not use ML Methods\"\n",
    "                                          })\n",
    "\n",
    "# Replacing instances of Networks with Nets For Brevity\n",
    "ml_barplot_data['selected_ml_method'] = ml_barplot_data['selected_ml_method'].str.replace('Networks', 'Nets', regex = True)"
   ]
  },
  {
   "cell_type": "code",
   "execution_count": 63,
   "metadata": {},
   "outputs": [],
   "source": [
    "ml_barplot_data.to_csv('../data/Processed/ml_barplot_data.csv', index = False)"
   ]
  },
  {
   "cell_type": "markdown",
   "metadata": {},
   "source": [
    "# Education vs. Recommended Language Dot Plot"
   ]
  },
  {
   "cell_type": "code",
   "execution_count": 64,
   "metadata": {},
   "outputs": [],
   "source": [
    "fluctuation_plot_survey_data = stage_1_data.iloc[1:].filter(regex = 'Q[3|4|5|6|8]', axis = 1)"
   ]
  },
  {
   "cell_type": "code",
   "execution_count": 65,
   "metadata": {},
   "outputs": [],
   "source": [
    "# Replacing Chunky Names with Simpler Names\n",
    "fluctuation_plot_survey_data = fluctuation_plot_survey_data.replace({'Some college/university study without earning a bachelor’s degree' : 'Some college/university study',\n",
    "                                                                      \"No formal education past high school\" : \"Highschool Diploma\"})"
   ]
  },
  {
   "cell_type": "code",
   "execution_count": 66,
   "metadata": {},
   "outputs": [],
   "source": [
    "fluctuation_plot_survey_data.to_csv('../data/Processed/Fluctuations_plot_data.csv', index = False)"
   ]
  },
  {
   "cell_type": "code",
   "execution_count": null,
   "metadata": {},
   "outputs": [],
   "source": []
  }
 ],
 "metadata": {
  "kernelspec": {
   "display_name": "Python [conda env:532]",
   "language": "python",
   "name": "conda-env-532-py"
  },
  "language_info": {
   "codemirror_mode": {
    "name": "ipython",
    "version": 3
   },
   "file_extension": ".py",
   "mimetype": "text/x-python",
   "name": "python",
   "nbconvert_exporter": "python",
   "pygments_lexer": "ipython3",
   "version": "3.8.6"
  }
 },
 "nbformat": 4,
 "nbformat_minor": 4
}
